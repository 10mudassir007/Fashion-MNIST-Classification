{
 "cells": [
  {
   "cell_type": "code",
   "execution_count": 79,
   "id": "38b23d93-12f4-4d2f-a543-20fd32b1c34e",
   "metadata": {},
   "outputs": [],
   "source": [
    "import tensorflow as tf"
   ]
  },
  {
   "cell_type": "code",
   "execution_count": 80,
   "id": "1e0a4253-f1f4-470c-956d-37625cfcb951",
   "metadata": {},
   "outputs": [],
   "source": [
    "dataset = tf.keras.datasets.mnist.load_data()\n",
    "(X_train,y_train),(X_test,y_test) = dataset\n",
    "X_train, X_test = X_train / 255.0, X_test / 255.0"
   ]
  },
  {
   "cell_type": "code",
   "execution_count": 81,
   "id": "d163b282-1268-40ea-a62e-580109064e30",
   "metadata": {},
   "outputs": [],
   "source": [
    "def create_model():\n",
    "    inputs = tf.keras.Input(shape=(28,28))\n",
    "    x = tf.keras.layers.Flatten()(inputs)\n",
    "    dense1 = tf.keras.layers.Dense(128,activation='relu')(x)\n",
    "    dense2 = tf.keras.layers.Dense(64,activation='relu')(dense1)\n",
    "    outputs =tf.keras.layers.Dense(10,activation='softmax')(dense2)\n",
    "\n",
    "    model = tf.keras.models.Model(inputs=inputs,outputs=outputs)\n",
    "\n",
    "    return model"
   ]
  },
  {
   "cell_type": "code",
   "execution_count": 82,
   "id": "dec09d4a-24d4-42b9-984b-a200fea47a71",
   "metadata": {},
   "outputs": [],
   "source": [
    "model = create_model()\n",
    "\n",
    "model.compile(optimizer='adam',\n",
    "              loss='sparse_categorical_crossentropy',  \n",
    "              metrics=['accuracy'])"
   ]
  },
  {
   "cell_type": "code",
   "execution_count": 83,
   "id": "f3bee466-c7bc-4ea1-b4bb-5b90a5f92128",
   "metadata": {},
   "outputs": [
    {
     "name": "stdout",
     "output_type": "stream",
     "text": [
      "Epoch 1/10\n",
      "\u001b[1m53/53\u001b[0m \u001b[32m━━━━━━━━━━━━━━━━━━━━\u001b[0m\u001b[37m\u001b[0m \u001b[1m17s\u001b[0m 15ms/step - accuracy: 0.6039 - loss: 1.4070 - val_accuracy: 0.9287 - val_loss: 0.2654\n",
      "Epoch 2/10\n",
      "\u001b[1m53/53\u001b[0m \u001b[32m━━━━━━━━━━━━━━━━━━━━\u001b[0m\u001b[37m\u001b[0m \u001b[1m1s\u001b[0m 10ms/step - accuracy: 0.9154 - loss: 0.3031 - val_accuracy: 0.9482 - val_loss: 0.1879\n",
      "Epoch 3/10\n",
      "\u001b[1m53/53\u001b[0m \u001b[32m━━━━━━━━━━━━━━━━━━━━\u001b[0m\u001b[37m\u001b[0m \u001b[1m1s\u001b[0m 10ms/step - accuracy: 0.9361 - loss: 0.2283 - val_accuracy: 0.9572 - val_loss: 0.1566\n",
      "Epoch 4/10\n",
      "\u001b[1m53/53\u001b[0m \u001b[32m━━━━━━━━━━━━━━━━━━━━\u001b[0m\u001b[37m\u001b[0m \u001b[1m1s\u001b[0m 10ms/step - accuracy: 0.9488 - loss: 0.1806 - val_accuracy: 0.9625 - val_loss: 0.1361\n",
      "Epoch 5/10\n",
      "\u001b[1m53/53\u001b[0m \u001b[32m━━━━━━━━━━━━━━━━━━━━\u001b[0m\u001b[37m\u001b[0m \u001b[1m1s\u001b[0m 10ms/step - accuracy: 0.9557 - loss: 0.1544 - val_accuracy: 0.9662 - val_loss: 0.1237\n",
      "Epoch 6/10\n",
      "\u001b[1m53/53\u001b[0m \u001b[32m━━━━━━━━━━━━━━━━━━━━\u001b[0m\u001b[37m\u001b[0m \u001b[1m1s\u001b[0m 10ms/step - accuracy: 0.9618 - loss: 0.1344 - val_accuracy: 0.9705 - val_loss: 0.1135\n",
      "Epoch 7/10\n",
      "\u001b[1m53/53\u001b[0m \u001b[32m━━━━━━━━━━━━━━━━━━━━\u001b[0m\u001b[37m\u001b[0m \u001b[1m1s\u001b[0m 10ms/step - accuracy: 0.9657 - loss: 0.1205 - val_accuracy: 0.9707 - val_loss: 0.1048\n",
      "Epoch 8/10\n",
      "\u001b[1m53/53\u001b[0m \u001b[32m━━━━━━━━━━━━━━━━━━━━\u001b[0m\u001b[37m\u001b[0m \u001b[1m1s\u001b[0m 10ms/step - accuracy: 0.9709 - loss: 0.1032 - val_accuracy: 0.9718 - val_loss: 0.1034\n",
      "Epoch 9/10\n",
      "\u001b[1m53/53\u001b[0m \u001b[32m━━━━━━━━━━━━━━━━━━━━\u001b[0m\u001b[37m\u001b[0m \u001b[1m1s\u001b[0m 11ms/step - accuracy: 0.9749 - loss: 0.0918 - val_accuracy: 0.9732 - val_loss: 0.0974\n",
      "Epoch 10/10\n",
      "\u001b[1m53/53\u001b[0m \u001b[32m━━━━━━━━━━━━━━━━━━━━\u001b[0m\u001b[37m\u001b[0m \u001b[1m1s\u001b[0m 10ms/step - accuracy: 0.9768 - loss: 0.0828 - val_accuracy: 0.9725 - val_loss: 0.0957\n"
     ]
    },
    {
     "data": {
      "text/plain": [
       "<keras.src.callbacks.history.History at 0x20f89dd6290>"
      ]
     },
     "execution_count": 83,
     "metadata": {},
     "output_type": "execute_result"
    }
   ],
   "source": [
    "model.fit(X_train,y_train,epochs=10,batch_size=1024,validation_split=0.1)"
   ]
  },
  {
   "cell_type": "code",
   "execution_count": 84,
   "id": "db1b3c30-eb2e-4931-ad6b-b1b60a2aadd7",
   "metadata": {},
   "outputs": [
    {
     "name": "stdout",
     "output_type": "stream",
     "text": [
      "\u001b[1m313/313\u001b[0m \u001b[32m━━━━━━━━━━━━━━━━━━━━\u001b[0m\u001b[37m\u001b[0m \u001b[1m0s\u001b[0m 938us/step - accuracy: 0.9623 - loss: 0.1169\n",
      "Test accuracy: 0.97\n"
     ]
    }
   ],
   "source": [
    "test_loss, test_acc = model.evaluate(X_test, y_test)\n",
    "print(f'Test accuracy: {round(test_acc,2)}')"
   ]
  },
  {
   "cell_type": "code",
   "execution_count": 100,
   "id": "10c4cbce-c657-4fa7-b588-78cbb74bbaf5",
   "metadata": {},
   "outputs": [],
   "source": [
    "def cnn_model():\n",
    "    inputs = tf.keras.Input(shape=(28,28,1))\n",
    "    conv1 = tf.keras.layers.Conv2D(64,(3,3),activation='relu')(inputs)\n",
    "    pool1 = tf.keras.layers.MaxPooling2D(2,2)(conv1)\n",
    "    conv2 = tf.keras.layers.Conv2D(32,(3,3),activation='relu')(pool1)\n",
    "    pool2 = tf.keras.layers.MaxPooling2D(2,2)(conv2)\n",
    "    flatten = tf.keras.layers.Flatten()(pool2)\n",
    "    dense = tf.keras.layers.Dense(64,activation='relu')(flatten)\n",
    "    outputs =tf.keras.layers.Dense(10,activation='softmax')(dense)\n",
    "\n",
    "    model = tf.keras.models.Model(inputs=inputs,outputs=outputs)\n",
    "\n",
    "    return model"
   ]
  },
  {
   "cell_type": "code",
   "execution_count": 101,
   "id": "7c2511b7-f7c3-4493-9fb4-b7fdf248a19f",
   "metadata": {},
   "outputs": [],
   "source": [
    "model2 = cnn_model()\n",
    "model2.compile(optimizer='adam',\n",
    "              loss='sparse_categorical_crossentropy',  \n",
    "              metrics=['accuracy'])"
   ]
  },
  {
   "cell_type": "code",
   "execution_count": 103,
   "id": "df9d314b-4523-443f-af65-f755647fa044",
   "metadata": {},
   "outputs": [
    {
     "name": "stdout",
     "output_type": "stream",
     "text": [
      "Epoch 1/10\n",
      "\u001b[1m422/422\u001b[0m \u001b[32m━━━━━━━━━━━━━━━━━━━━\u001b[0m\u001b[37m\u001b[0m \u001b[1m52s\u001b[0m 122ms/step - accuracy: 0.8784 - loss: 0.4391 - val_accuracy: 0.9753 - val_loss: 0.0851\n",
      "Epoch 2/10\n",
      "\u001b[1m422/422\u001b[0m \u001b[32m━━━━━━━━━━━━━━━━━━━━\u001b[0m\u001b[37m\u001b[0m \u001b[1m51s\u001b[0m 120ms/step - accuracy: 0.9754 - loss: 0.0815 - val_accuracy: 0.9840 - val_loss: 0.0586\n",
      "Epoch 3/10\n",
      "\u001b[1m422/422\u001b[0m \u001b[32m━━━━━━━━━━━━━━━━━━━━\u001b[0m\u001b[37m\u001b[0m \u001b[1m52s\u001b[0m 122ms/step - accuracy: 0.9824 - loss: 0.0543 - val_accuracy: 0.9847 - val_loss: 0.0520\n",
      "Epoch 4/10\n",
      "\u001b[1m422/422\u001b[0m \u001b[32m━━━━━━━━━━━━━━━━━━━━\u001b[0m\u001b[37m\u001b[0m \u001b[1m51s\u001b[0m 121ms/step - accuracy: 0.9872 - loss: 0.0406 - val_accuracy: 0.9887 - val_loss: 0.0430\n",
      "Epoch 5/10\n",
      "\u001b[1m422/422\u001b[0m \u001b[32m━━━━━━━━━━━━━━━━━━━━\u001b[0m\u001b[37m\u001b[0m \u001b[1m51s\u001b[0m 122ms/step - accuracy: 0.9892 - loss: 0.0336 - val_accuracy: 0.9863 - val_loss: 0.0489\n",
      "Epoch 6/10\n",
      "\u001b[1m422/422\u001b[0m \u001b[32m━━━━━━━━━━━━━━━━━━━━\u001b[0m\u001b[37m\u001b[0m \u001b[1m52s\u001b[0m 122ms/step - accuracy: 0.9908 - loss: 0.0295 - val_accuracy: 0.9875 - val_loss: 0.0453\n",
      "Epoch 7/10\n",
      "\u001b[1m422/422\u001b[0m \u001b[32m━━━━━━━━━━━━━━━━━━━━\u001b[0m\u001b[37m\u001b[0m \u001b[1m52s\u001b[0m 123ms/step - accuracy: 0.9922 - loss: 0.0239 - val_accuracy: 0.9887 - val_loss: 0.0458\n",
      "Epoch 8/10\n",
      "\u001b[1m422/422\u001b[0m \u001b[32m━━━━━━━━━━━━━━━━━━━━\u001b[0m\u001b[37m\u001b[0m \u001b[1m52s\u001b[0m 123ms/step - accuracy: 0.9941 - loss: 0.0196 - val_accuracy: 0.9893 - val_loss: 0.0380\n",
      "Epoch 9/10\n",
      "\u001b[1m422/422\u001b[0m \u001b[32m━━━━━━━━━━━━━━━━━━━━\u001b[0m\u001b[37m\u001b[0m \u001b[1m51s\u001b[0m 121ms/step - accuracy: 0.9947 - loss: 0.0169 - val_accuracy: 0.9873 - val_loss: 0.0480\n",
      "Epoch 10/10\n",
      "\u001b[1m422/422\u001b[0m \u001b[32m━━━━━━━━━━━━━━━━━━━━\u001b[0m\u001b[37m\u001b[0m \u001b[1m52s\u001b[0m 122ms/step - accuracy: 0.9952 - loss: 0.0139 - val_accuracy: 0.9915 - val_loss: 0.0364\n"
     ]
    },
    {
     "data": {
      "text/plain": [
       "<keras.src.callbacks.history.History at 0x20f8aeab250>"
      ]
     },
     "execution_count": 103,
     "metadata": {},
     "output_type": "execute_result"
    }
   ],
   "source": [
    "model2.fit(X_train,y_train,epochs=10,batch_size=128,validation_split=0.1)"
   ]
  },
  {
   "cell_type": "code",
   "execution_count": null,
   "id": "b59d95e9-fabe-48fb-9a4a-9ebde9917c3d",
   "metadata": {},
   "outputs": [],
   "source": []
  }
 ],
 "metadata": {
  "kernelspec": {
   "display_name": "Python 3 (ipykernel)",
   "language": "python",
   "name": "python3"
  },
  "language_info": {
   "codemirror_mode": {
    "name": "ipython",
    "version": 3
   },
   "file_extension": ".py",
   "mimetype": "text/x-python",
   "name": "python",
   "nbconvert_exporter": "python",
   "pygments_lexer": "ipython3",
   "version": "3.11.9"
  }
 },
 "nbformat": 4,
 "nbformat_minor": 5
}
